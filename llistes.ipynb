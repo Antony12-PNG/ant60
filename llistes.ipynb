{
  "nbformat": 4,
  "nbformat_minor": 0,
  "metadata": {
    "colab": {
      "provenance": [],
      "authorship_tag": "ABX9TyNXWypolDD1wtQOvnGn3xa5",
      "include_colab_link": true
    },
    "kernelspec": {
      "name": "python3",
      "display_name": "Python 3"
    },
    "language_info": {
      "name": "python"
    }
  },
  "cells": [
    {
      "cell_type": "markdown",
      "metadata": {
        "id": "view-in-github",
        "colab_type": "text"
      },
      "source": [
        "<a href=\"https://colab.research.google.com/github/Antony12-PNG/ant60/blob/main/llistes.ipynb\" target=\"_parent\"><img src=\"https://colab.research.google.com/assets/colab-badge.svg\" alt=\"Open In Colab\"/></a>"
      ]
    },
    {
      "cell_type": "markdown",
      "source": [
        "pa llet peix nutella 4 15 cerveza"
      ],
      "metadata": {
        "id": "Lp2dWI_4E_S7"
      }
    },
    {
      "cell_type": "code",
      "execution_count": null,
      "metadata": {
        "colab": {
          "base_uri": "https://localhost:8080/",
          "height": 274
        },
        "id": "VblAjIMvEtTu",
        "outputId": "2639ebad-2ffa-4848-9891-e99b6aa5e35e"
      },
      "outputs": [
        {
          "output_type": "stream",
          "name": "stdout",
          "text": [
            "['pa', 'llet', 'peix', 'cerveza', 'nutella', '4', '15']\n",
            "peix\n",
            "cerveza\n",
            "['pa', 'llet', 'peix', 'nutella', '4', '15']\n"
          ]
        },
        {
          "output_type": "error",
          "ename": "TypeError",
          "evalue": "posix_spawn() takes exactly 3 positional arguments (1 given)",
          "traceback": [
            "\u001b[0;31m---------------------------------------------------------------------------\u001b[0m",
            "\u001b[0;31mTypeError\u001b[0m                                 Traceback (most recent call last)",
            "\u001b[0;32m<ipython-input-39-80cfa153e7b1>\u001b[0m in \u001b[0;36m<cell line: 9>\u001b[0;34m()\u001b[0m\n\u001b[1;32m      7\u001b[0m \u001b[0mprint\u001b[0m\u001b[0;34m(\u001b[0m\u001b[0mllista_ingredients\u001b[0m\u001b[0;34m)\u001b[0m\u001b[0;34m\u001b[0m\u001b[0;34m\u001b[0m\u001b[0m\n\u001b[1;32m      8\u001b[0m \u001b[0mllista_ingredients\u001b[0m\u001b[0;34m.\u001b[0m\u001b[0mappend\u001b[0m\u001b[0;34m(\u001b[0m\u001b[0;34m\"xocolata\"\u001b[0m\u001b[0;34m)\u001b[0m\u001b[0;34m\u001b[0m\u001b[0;34m\u001b[0m\u001b[0m\n\u001b[0;32m----> 9\u001b[0;31m \u001b[0mllista_ingredients\u001b[0m\u001b[0;34m.\u001b[0m\u001b[0minsert\u001b[0m\u001b[0;34m(\u001b[0m\u001b[0mposix_spawn\u001b[0m\u001b[0;34m(\u001b[0m\u001b[0;36m3\u001b[0m\u001b[0;34m)\u001b[0m\u001b[0;34m)\u001b[0m\u001b[0;34m\u001b[0m\u001b[0;34m\u001b[0m\u001b[0m\n\u001b[0m\u001b[1;32m     10\u001b[0m \u001b[0mprint\u001b[0m\u001b[0;34m(\u001b[0m\u001b[0mllista_ingredients\u001b[0m\u001b[0;34m)\u001b[0m\u001b[0;34m\u001b[0m\u001b[0;34m\u001b[0m\u001b[0m\n",
            "\u001b[0;31mTypeError\u001b[0m: posix_spawn() takes exactly 3 positional arguments (1 given)"
          ]
        }
      ],
      "source": [
        "from posix import posix_spawn\n",
        "\n",
        "llista_ingredients =  [\"pa\", \"llet\", \"peix\", \"cerveza\", \"nutella\",\"4\",\"15\"]\n",
        "print(llista_ingredients)\n",
        "print(llista_ingredients[2])\n",
        "print(llista_ingredients.pop(3))\n",
        "print(llista_ingredients)\n",
        "llista_ingredients.append(\"xocolata\")\n",
        "llista_ingredients.insert((3))\n",
        "print(llista_ingredients)\n"
      ]
    },
    {
      "cell_type": "markdown",
      "source": [
        "creare una llista que es digui setmana que tingui els dies de dilluns a divendre menys el dijoous, despres afegirem el dissabte i diumenge, i després posarem el dijous en el seu lloc\n",
        "Un cop tinguem la setmana completa afegirem el divendres 2 cops, en una variable enmagatzeramen quants divendres hi ha la llista, després alimenarem els divendres que hi sobrin, i després farem un text  que es vegi el nombre de divndres que hi havian abans de esborrarlos."
      ],
      "metadata": {
        "id": "JwB1f4zyMDFF"
      }
    },
    {
      "cell_type": "code",
      "source": [
        "setmana  =  [\"dilluns\", \"dimarts\",\"dimecres\",\"dijous\",\"divendres\"]\n",
        "setmana.pop(3)\n",
        "print(setmana)\n",
        "setmana.append(\"dissabte\")\n",
        "setmana.append(\"diumenge\")\n",
        "print(setmana)\n",
        "\n",
        "setmana.insert(3,\"dijous\")\n",
        "print(setmana)\n",
        "\n",
        "setmana.append(\"divendres\")\n",
        "setmana.append(\"divendres\")\n",
        "print(setmana)\n",
        "\n",
        "setmana.count(\"divendres\")\n",
        "print(setmana)\n",
        "\n",
        "setmana.pop(7)\n",
        "print(setmana)\n",
        "setmana.pop(7)\n",
        "print(setmana)\n",
        "\n",
        "\n",
        "\n"
      ],
      "metadata": {
        "colab": {
          "base_uri": "https://localhost:8080/"
        },
        "id": "wxhtmkh9MYPV",
        "outputId": "224e3429-1f0d-4e43-e141-948e40220941"
      },
      "execution_count": 11,
      "outputs": [
        {
          "output_type": "stream",
          "name": "stdout",
          "text": [
            "['dilluns', 'dimarts', 'dimecres', 'divendres']\n",
            "['dilluns', 'dimarts', 'dimecres', 'divendres', 'dissabte', 'diumenge']\n",
            "['dilluns', 'dimarts', 'dimecres', 'dijous', 'divendres', 'dissabte', 'diumenge']\n",
            "['dilluns', 'dimarts', 'dimecres', 'dijous', 'divendres', 'dissabte', 'diumenge', 'divendres', 'divendres']\n",
            "['dilluns', 'dimarts', 'dimecres', 'dijous', 'divendres', 'dissabte', 'diumenge', 'divendres', 'divendres']\n",
            "['dilluns', 'dimarts', 'dimecres', 'dijous', 'divendres', 'dissabte', 'diumenge', 'divendres']\n",
            "['dilluns', 'dimarts', 'dimecres', 'dijous', 'divendres', 'dissabte', 'diumenge']\n"
          ]
        },
        {
          "output_type": "execute_result",
          "data": {
            "text/plain": [
              "0"
            ]
          },
          "metadata": {},
          "execution_count": 11
        }
      ]
    }
  ]
}