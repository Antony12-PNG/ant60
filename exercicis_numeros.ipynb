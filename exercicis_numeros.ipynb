{
  "nbformat": 4,
  "nbformat_minor": 0,
  "metadata": {
    "colab": {
      "provenance": [],
      "authorship_tag": "ABX9TyPXzrnyaRafvWGxq9iQSR/y",
      "include_colab_link": true
    },
    "kernelspec": {
      "name": "python3",
      "display_name": "Python 3"
    },
    "language_info": {
      "name": "python"
    }
  },
  "cells": [
    {
      "cell_type": "markdown",
      "metadata": {
        "id": "view-in-github",
        "colab_type": "text"
      },
      "source": [
        "<a href=\"https://colab.research.google.com/github/Antony12-PNG/ant60/blob/main/exercicis_numeros.ipynb\" target=\"_parent\"><img src=\"https://colab.research.google.com/assets/colab-badge.svg\" alt=\"Open In Colab\"/></a>"
      ]
    },
    {
      "cell_type": "markdown",
      "source": [
        "Li heu d demanar a un alumno qu ens doni 3 notes que callculi el promig de les 3 note y si el promig es mes gran o igual supera el curs.\n",
        "Si es troba entre 4-7 \"estas en el promig, i si estas sota al 4 \"recuperació\""
      ],
      "metadata": {
        "id": "fdb8-47cuqCh"
      }
    },
    {
      "cell_type": "code",
      "execution_count": 21,
      "metadata": {
        "colab": {
          "base_uri": "https://localhost:8080/"
        },
        "id": "lOSV2_cHuilH",
        "outputId": "b9bbddb7-42ba-41de-ad62-6dbdb4d1131f"
      },
      "outputs": [
        {
          "output_type": "stream",
          "name": "stdout",
          "text": [
            "Digues la teva primera nota:      1\n",
            "Digues la teva segona nota:       1\n",
            "Digues la teva tercera nota:      1\n",
            "1.0\n",
            "Has de recuperar\n"
          ]
        }
      ],
      "source": [
        "numero_1=float(input(\"Digues la teva primera nota:      \"))\n",
        "numero_2=float(input(\"Digues la teva segona nota:       \"))\n",
        "numero_3=float(input(\"Digues la teva tercera nota:      \"))\n",
        "mitjana=   (numero_1   +    numero_2    +   numero_3)/3\n",
        "print(mitjana)\n",
        "if(mitjana   >=    7):\n",
        "  print(\"Superas el curs!!\")\n",
        "elif(mitjana   < 4):\n",
        "  print(\"Has de recuperar\")\n",
        "else:\n",
        "  print(\"Has passat el curs pero compte\")"
      ]
    },
    {
      "cell_type": "markdown",
      "source": [
        "Li demanen 3 numeros, hi ens ha de mostrar el superior en pantalla, si saps fer una cadena fes-ho"
      ],
      "metadata": {
        "id": "wg7tisptvKyI"
      }
    },
    {
      "cell_type": "code",
      "source": [
        "numero_1=float(input(\"Digues el primer nuemro:      \"))\n",
        "numero_2=float(input(\"Digues el segon numero:       \"))\n",
        "numero_3=float(input(\"Digues el ttercer numero:      \"))\n",
        "if(numero_1 > numero_2 and numero_1 > numero_3):\n",
        "  print(\"El numero mes gran és\", numero_1)\n",
        "elif(numero_2 > numero_1 and numero_2 > numero_3):\n",
        "  print(\"El numero mes gran és\", numero_2)\n",
        "else:\n",
        "  print(\"el nunmero mes gran és\", numero_3)"
      ],
      "metadata": {
        "colab": {
          "base_uri": "https://localhost:8080/"
        },
        "id": "QZ0xuLrHvZy8",
        "outputId": "cb013a10-ea81-4d49-b699-3b9ca57e3469"
      },
      "execution_count": 3,
      "outputs": [
        {
          "output_type": "stream",
          "name": "stdout",
          "text": [
            "Digues el primer nuemro:      4\n",
            "Digues el segon numero:       1\n",
            "Digues el ttercer numero:      2\n",
            "El numero mes gran és 4.0\n"
          ]
        }
      ]
    },
    {
      "cell_type": "markdown",
      "source": [
        "Us ha demanar que poseu un numero al programa i dir si es positiu,\n",
        "negatiu o zero"
      ],
      "metadata": {
        "id": "UkRbNUyNvaNC"
      }
    },
    {
      "cell_type": "code",
      "source": [
        "numero=float(input(\"Digues el numero:      \"))\n",
        "if(numero >  0):\n",
        "  print(\"es positiu\")\n",
        "elif(numero == 0):\n",
        "  print(\"es negatiu\")\n",
        "else:\n",
        "  print(\"es negatiu\")"
      ],
      "metadata": {
        "colab": {
          "base_uri": "https://localhost:8080/"
        },
        "id": "jSn_iktnvwIj",
        "outputId": "79ea177b-f325-41f9-98fa-de8810b276b3"
      },
      "execution_count": 17,
      "outputs": [
        {
          "output_type": "stream",
          "name": "stdout",
          "text": [
            "Digues el numero:      0\n",
            "es negatiu\n"
          ]
        }
      ]
    }
  ]
}