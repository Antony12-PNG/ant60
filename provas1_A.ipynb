{
  "nbformat": 4,
  "nbformat_minor": 0,
  "metadata": {
    "colab": {
      "provenance": []
    },
    "kernelspec": {
      "name": "python3",
      "display_name": "Python 3"
    },
    "language_info": {
      "name": "python"
    }
  },
  "cells": [
    {
      "cell_type": "code",
      "execution_count": null,
      "metadata": {
        "colab": {
          "base_uri": "https://localhost:8080/"
        },
        "id": "5sot8hpnjTK-",
        "outputId": "13bc3325-4eed-473c-d3f1-5d68f8fd66c7"
      },
      "outputs": [
        {
          "output_type": "stream",
          "name": "stdout",
          "text": [
            "7\n"
          ]
        }
      ],
      "source": [
        "dies_de_la_setmana=7\n",
        "print (dies_de_la_setmana)"
      ]
    },
    {
      "cell_type": "markdown",
      "source": [
        "1. Un fabricant ven 48 cuines a 93 € una. Cobra 37 euros pel transport. Quant haurà cobrat en total? Només es fara un transport"
      ],
      "metadata": {
        "id": "HgwBOjqFlsE6"
      }
    },
    {
      "cell_type": "code",
      "source": [
        "total_cuines=48\n",
        "Preu_de_les_cuines=93\n",
        "Preu_transport=37\n",
        "Preu_total=total_cuines*Preu_de_les_cuines+Preu_transport\n",
        "print(Preu_total)"
      ],
      "metadata": {
        "colab": {
          "base_uri": "https://localhost:8080/"
        },
        "id": "16TFYqlBky-Q",
        "outputId": "7bbc0071-d9e5-4112-b845-246c373b29d7"
      },
      "execution_count": null,
      "outputs": [
        {
          "output_type": "stream",
          "name": "stdout",
          "text": [
            "4501\n"
          ]
        }
      ]
    },
    {
      "cell_type": "markdown",
      "source": [
        "2. En una guardiola hi ha 120 euros; en una altra hi ha 215 i en una tercera 163. Si repartim els\n",
        "euros entre 6 persones, quants en toquen a cada una?"
      ],
      "metadata": {
        "id": "-U5WcXe5lmkz"
      }
    },
    {
      "cell_type": "code",
      "source": [
        "guardiola_1=120\n",
        "guardiola_2=215\n",
        "guardiola_3=163\n",
        "Persones=6\n",
        "diners_totals=guardiola_1+guardiola_2+guardiola_3\n",
        "print(diners_totals/Persones)"
      ],
      "metadata": {
        "colab": {
          "base_uri": "https://localhost:8080/"
        },
        "id": "5qOTmnUIniWI",
        "outputId": "94491550-fa14-4777-ff95-4c8dbee85e5b"
      },
      "execution_count": null,
      "outputs": [
        {
          "output_type": "stream",
          "name": "stdout",
          "text": [
            "83.0\n"
          ]
        }
      ]
    },
    {
      "cell_type": "markdown",
      "source": [
        "3. Una castanyera tenia 250 castanyes torrades. Si en ven 17 dotzenes i a més treu 9 castanyes\n",
        "cremades, quantes li'n queden per vendre?"
      ],
      "metadata": {
        "id": "kxucSZQdllJm"
      }
    },
    {
      "cell_type": "code",
      "source": [
        "castanyes=250\n",
        "dotzenes_venudes=12*17\n",
        "castanyes_cremades=9\n",
        "total_castayes=castanyes-dotzenes_venudes-castanyes_cremades\n",
        "print(castanyes-dotzenes_venudes-castanyes_cremades)"
      ],
      "metadata": {
        "colab": {
          "base_uri": "https://localhost:8080/"
        },
        "id": "qTtuOviyogBj",
        "outputId": "7824ed12-343c-4ba5-b430-c98c1b9369ea"
      },
      "execution_count": null,
      "outputs": [
        {
          "output_type": "stream",
          "name": "stdout",
          "text": [
            "37\n"
          ]
        }
      ]
    },
    {
      "cell_type": "markdown",
      "source": [
        "4. Un ramader va guanyar en un any 2.850 euros ; va guardar-se'n 700, i amb la resta va comprar 5\n",
        "vaques. Quants euros val cada vaca?"
      ],
      "metadata": {
        "id": "-REIbV2Llf_w"
      }
    },
    {
      "cell_type": "code",
      "source": [
        "ganancies=2850\n",
        "estalvis=700\n",
        "diners_totals=2150\n",
        "vaques=5\n",
        "print(diners_totals/vaques)"
      ],
      "metadata": {
        "colab": {
          "base_uri": "https://localhost:8080/"
        },
        "id": "U8Z7uYIvpp3O",
        "outputId": "b05a7779-caa8-4458-f977-6574318b9781"
      },
      "execution_count": null,
      "outputs": [
        {
          "output_type": "stream",
          "name": "stdout",
          "text": [
            "430.0\n"
          ]
        }
      ]
    },
    {
      "cell_type": "markdown",
      "source": [
        "5. A la llibreta d'estalvis tinc 275 euros. Hi poso dos bitllets de 10 euros i tres monedes de 2 euros.\n",
        "Quants euros hi tinc ara?"
      ],
      "metadata": {
        "id": "u8FmXZ4IlZSb"
      }
    },
    {
      "cell_type": "code",
      "source": [
        "llibreta_de_estalvis=275\n",
        "billets_10=2*10\n",
        "monedes_2=3*2\n",
        "diners_totals=llibreta_de_estalvis+billets_10+monedes_2\n",
        "print(diners_totals)"
      ],
      "metadata": {
        "colab": {
          "base_uri": "https://localhost:8080/"
        },
        "id": "LrU0yNVLaUuG",
        "outputId": "8423ddb8-b79d-4592-fc09-33e2c9ab9a52"
      },
      "execution_count": null,
      "outputs": [
        {
          "output_type": "stream",
          "name": "stdout",
          "text": [
            "301\n"
          ]
        }
      ]
    },
    {
      "cell_type": "markdown",
      "source": [
        "6. A una família li falten 26.625 euros per poder comprar una casa que val 98.370 euros. Quants\n",
        "euros té?"
      ],
      "metadata": {
        "id": "FoYE4iPrlS6n"
      }
    },
    {
      "cell_type": "code",
      "source": [
        "diners_faltants=26625\n",
        "preu_casa=98370\n",
        "diners_familia=98370-26625\n",
        "print(diners_familia)\n"
      ],
      "metadata": {
        "colab": {
          "base_uri": "https://localhost:8080/"
        },
        "id": "24RNKbbvbPaU",
        "outputId": "13541de1-7b17-405d-d781-b3b8f9e307d3"
      },
      "execution_count": null,
      "outputs": [
        {
          "output_type": "stream",
          "name": "stdout",
          "text": [
            "71745\n"
          ]
        }
      ]
    },
    {
      "cell_type": "markdown",
      "source": [
        "7. Si dues revistes pesen 432 grams i el pes d'aquestes dues revistes és el mateix que cinc\n",
        "rotuladors. Quant pesa un rotulador?"
      ],
      "metadata": {
        "id": "g4ssvbxllOBp"
      }
    },
    {
      "cell_type": "code",
      "source": [
        "pes_de_dos_revistes=432\n",
        "rotuladors=5\n",
        "pes_de_cinc_rotuladors=432\n",
        "pes_de_un_rotulador=pes_de_cinc_rotuladors/rotuladors\n",
        "print(pes_de_un_rotulador)"
      ],
      "metadata": {
        "colab": {
          "base_uri": "https://localhost:8080/"
        },
        "id": "eBQmtp4SjdJa",
        "outputId": "d78e90f7-9f42-4d85-af4d-5fd32e4e002e"
      },
      "execution_count": null,
      "outputs": [
        {
          "output_type": "stream",
          "name": "stdout",
          "text": [
            "86.4\n"
          ]
        }
      ]
    },
    {
      "cell_type": "markdown",
      "source": [
        "8. Una font raja 86 litres d'aigua per minut, d'una altra 74 litres i d'una tercera 132 litres. Quants\n",
        "litres ragen les tres fonts juntes en una hora?"
      ],
      "metadata": {
        "id": "rH7v7yvQmN3U"
      }
    },
    {
      "cell_type": "code",
      "source": [
        "font_1=86\n",
        "font_2=74\n",
        "font_3=132\n",
        "temps_minuts=1\n",
        "temps_hora=60\n",
        "genera_en_minuts=font_1+font_2+font_3*temps_minuts\n",
        "genera_en_hores=genera_en_minuts*temps_hora\n",
        "print(genera_en_hores)"
      ],
      "metadata": {
        "colab": {
          "base_uri": "https://localhost:8080/"
        },
        "id": "bIT_fY8AmNgm",
        "outputId": "d4334518-7a7c-42d3-b120-26ef357f6ba5"
      },
      "execution_count": null,
      "outputs": [
        {
          "output_type": "stream",
          "name": "stdout",
          "text": [
            "17520\n"
          ]
        }
      ]
    },
    {
      "cell_type": "markdown",
      "source": [
        "9. Un terrissaire fa 301 gerres cada setmana. Si les posa em caixes de 7 gerres, quantes caixes\n",
        "n'omple?"
      ],
      "metadata": {
        "id": "xNLNqfXApVhF"
      }
    },
    {
      "cell_type": "code",
      "source": [
        "gerres=301\n",
        "temps_setmana=1\n",
        "caixes=7\n",
        "caixes_plenes=gerres/caixes\n",
        "print(caixes_plenes)"
      ],
      "metadata": {
        "colab": {
          "base_uri": "https://localhost:8080/"
        },
        "id": "wE7h6VNspUyh",
        "outputId": "c8defd1d-652e-431a-befa-3949e12001a9"
      },
      "execution_count": null,
      "outputs": [
        {
          "output_type": "stream",
          "name": "stdout",
          "text": [
            "43.0\n"
          ]
        }
      ]
    },
    {
      "cell_type": "markdown",
      "source": [
        "10. En un vaixell hi van 175 mariners i en un submarí 56. quants mariners hi haurà en 14 vaixells i\n",
        "6 submarins iguals als esmentats?\n",
        "\n",
        "\n",
        "\n"
      ],
      "metadata": {
        "id": "BcUghqe9qbuU"
      }
    },
    {
      "cell_type": "code",
      "source": [
        "mariners_vaixell=175\n",
        "vaixell=14\n",
        "mariners_submari=56\n",
        "subamrins=6\n",
        "mariners_totals=mariners_vaixell*vaixell+mariners_submari*subamrins\n",
        "print(mariners_totals)\n",
        "\n"
      ],
      "metadata": {
        "colab": {
          "base_uri": "https://localhost:8080/"
        },
        "id": "9Nf-d-XtqdjW",
        "outputId": "bcb88d9f-c39b-4c22-bfe8-4e557ff5eed8"
      },
      "execution_count": null,
      "outputs": [
        {
          "output_type": "stream",
          "name": "stdout",
          "text": [
            "2786\n"
          ]
        }
      ]
    },
    {
      "cell_type": "markdown",
      "source": [
        "Escriu un programa que pregunti el nom de l'usuari, i despres quan l'usuari introdueixi el nom a la resposta s'ha d'imrimir una resposta que ens digui hola i la resposta de la pregunta que hem fet.\n"
      ],
      "metadata": {
        "id": "aJhzbyJrssjH"
      }
    },
    {
      "cell_type": "code",
      "source": [
        "\n",
        "Nom=input(\"Introduce tu nombre:\")\n",
        "print (\"Hola que tal estas, \"+ Nom )\n"
      ],
      "metadata": {
        "id": "9aQBHaYVsP4l",
        "colab": {
          "base_uri": "https://localhost:8080/"
        },
        "outputId": "ad89408f-15b1-417b-8dc4-ebf8fa974b2c"
      },
      "execution_count": null,
      "outputs": [
        {
          "output_type": "stream",
          "name": "stdout",
          "text": [
            "Introduce tu nombre:nsj\n",
            "Hola que tal estas, nsj\n"
          ]
        }
      ]
    },
    {
      "cell_type": "markdown",
      "source": [
        "una botiga de joguines te molt éxit amb dos dels seus productes:nines i payosos. Acostuma a fer venates per correu i la empressa de logística els cobra pels pes de cada joguina, així doncs han de calcular el pes dels payasos i nines que sortirn a cada paquet a demanda. Cada payaso pesa 112g i cada nina pesa 75g . Fer un progarama que llegeixe el número de payasos i nines venuts a la darrera comanda i també que calculi el pes de cada joguina"
      ],
      "metadata": {
        "id": "liuoSwlBrLwJ"
      }
    },
    {
      "cell_type": "code",
      "source": [
        "print (\"payaso     [1]\")\n",
        "print (\"nines      [2]\")\n",
        "pregunta = input(\"Seleccioni quina joguina vol: \")\n",
        "if pregunta == \"1\":\n",
        "  numero_1 = float(input(\"quants payasos vols?: \"))\n",
        "  peso = 112\n",
        "  respuesta = numero_1*peso\n",
        "  print(respuesta)\n",
        "if pregunta == \"2\":\n",
        "  numero_2 = float(input(\"quantes nines vols?: \"))\n",
        "  peso = 75\n",
        "  respuesta = numero_2*peso\n",
        "  print(respuesta)"
      ],
      "metadata": {
        "colab": {
          "base_uri": "https://localhost:8080/"
        },
        "id": "rAStOfFtuJGp",
        "outputId": "0e4e7802-9e11-48ad-f235-2a4d5fedb4d5"
      },
      "execution_count": null,
      "outputs": [
        {
          "output_type": "stream",
          "name": "stdout",
          "text": [
            "payaso     [1]\n",
            "nines      [2]\n",
            "Seleccioni quina joguina vol: 2\n",
            "quantes nines vols?: 2\n",
            "150.0\n"
          ]
        }
      ]
    },
    {
      "cell_type": "markdown",
      "source": [
        "calculadora"
      ],
      "metadata": {
        "id": "5RlNXtlQsgqW"
      }
    },
    {
      "cell_type": "code",
      "source": [
        "print (\"sumar       [1]\")\n",
        "print (\"restar      [2]\")\n",
        "print (\"multiplicar [3]\")\n",
        "print (\"dividir     [4]\")\n",
        "pregunta = input(\"Introduixi el número assignat segons el tipus d'operació que vulgui fer: \")\n",
        "if pregunta == \"1\":\n",
        "  numero_1 = float(input(\"Digues el número 1: \"))\n",
        "  numero_2 = float(input(\"Digues el número 2: \"))\n",
        "  respuesta = numero_1 + numero_2\n",
        "  print (str(respuesta))\n",
        "elif pregunta == \"2\":\n",
        "  numero_1 = float(input(\"Digues el número 1: \"))\n",
        "  numero_2 = float(input(\"Digues el número 2: \"))\n",
        "  respuesta = numero_1 - numero_2\n",
        "  print (str(respuesta))\n",
        "elif pregunta == \"3\":\n",
        "  numero_1 = float(input(\"Digues el número 1: \"))\n",
        "  numero_2 = float(input(\"Digues el número 2: \"))\n",
        "  respuesta = numero_1 * numero_2\n",
        "  print (str(respuesta))\n",
        "elif pregunta == \"4\":\n",
        "  numero_1 = float(input(\"Digues el número 1: \"))\n",
        "  numero_2 = float(input(\"Digues el número 2: \"))\n",
        "  respuesta = numero_1 / numero_2\n",
        "  print (\"El resultat es \" + str(respuesta))"
      ],
      "metadata": {
        "colab": {
          "base_uri": "https://localhost:8080/"
        },
        "id": "GC5thfVIse0T",
        "outputId": "d7a6ed75-79bc-4e84-cf9b-2e7d62bdb3e1"
      },
      "execution_count": null,
      "outputs": [
        {
          "output_type": "stream",
          "name": "stdout",
          "text": [
            "sumar       [1]\n",
            "restar      [2]\n",
            "multiplicar [3]\n",
            "dividir     [4]\n",
            "Introduixi el número assignat segons el tipus d'operació que vulgui fer: 1\n",
            "Digues el número 1: 1\n",
            "Digues el número 2: 1\n",
            "2.0\n"
          ]
        }
      ]
    },
    {
      "cell_type": "code",
      "source": [
        "x=10\n",
        "print(type(x))"
      ],
      "metadata": {
        "colab": {
          "base_uri": "https://localhost:8080/"
        },
        "id": "7Wnm-etrsJE1",
        "outputId": "9e2a10f0-32f0-457d-c82d-bd4772a81936"
      },
      "execution_count": null,
      "outputs": [
        {
          "output_type": "stream",
          "name": "stdout",
          "text": [
            "<class 'int'>\n"
          ]
        }
      ]
    },
    {
      "cell_type": "code",
      "source": [
        "X=1, 5\n",
        "print(type(x))"
      ],
      "metadata": {
        "colab": {
          "base_uri": "https://localhost:8080/"
        },
        "id": "anjVK7BHsgzZ",
        "outputId": "f18cf6c8-e739-46a7-b20c-b2aea086661f"
      },
      "execution_count": null,
      "outputs": [
        {
          "output_type": "stream",
          "name": "stdout",
          "text": [
            "<class 'int'>\n"
          ]
        }
      ]
    },
    {
      "cell_type": "code",
      "source": [
        "X=1.5\n",
        "print(type(x))"
      ],
      "metadata": {
        "colab": {
          "base_uri": "https://localhost:8080/"
        },
        "id": "oCiv4q0Vss2U",
        "outputId": "f2b3211d-f1ae-4ed6-989f-67fff8dbf3a6"
      },
      "execution_count": null,
      "outputs": [
        {
          "output_type": "stream",
          "name": "stdout",
          "text": [
            "<class 'int'>\n"
          ]
        }
      ]
    },
    {
      "cell_type": "markdown",
      "source": [
        "Pregunta a la variable mtjançant el type quien tipus de funció es. Un cop preguntat si la resposta es un numero sencer cal que el programa hos digui, escriu el nombre amb un numero no sencer o decimal, sino caldra que imprimeixi el valor de nines.\n"
      ],
      "metadata": {
        "id": "GgquGzQftZw_"
      }
    },
    {
      "cell_type": "code",
      "source": [
        "print (\"pallassos [1]\")\n",
        "print (\"nines      [2]\")\n",
        "pregunta = input(\"Seleccioni quina joguina vol(1 o 2): \")\n",
        "if pregunta == \"1\":\n",
        "  numero_1 = float(input(\"Quants pallassos vols?: \"))\n",
        "  peso_pallassos = 112\n",
        "  respuesta = numero_1*peso\n",
        "  print(respuesta)\n",
        "  print(type(respuesta))\n",
        "if pregunta == \"2\":\n",
        "  numero_2 = float(input(\"quantes nines vols?: \"))\n",
        "  peso_nines = 75\n",
        "  respuesta = numero_2*peso\n",
        "  print(respuesta)\n",
        "  print(type(respuesta))\n"
      ],
      "metadata": {
        "colab": {
          "base_uri": "https://localhost:8080/"
        },
        "id": "tADG11lctbEX",
        "outputId": "846d6b2b-ff6e-41c3-9d00-711815b15b40"
      },
      "execution_count": null,
      "outputs": [
        {
          "output_type": "stream",
          "name": "stdout",
          "text": [
            "pallassos [1]\n",
            "nines      [2]\n",
            "Seleccioni quina joguina vol(1 o 2): 1\n",
            "Quants pallassos vols?: 3\n",
            "336.0\n",
            "<class 'float'>\n"
          ]
        }
      ]
    }
  ]
}