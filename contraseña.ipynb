{
  "cells": [
    {
      "cell_type": "markdown",
      "metadata": {
        "id": "view-in-github",
        "colab_type": "text"
      },
      "source": [
        "<a href=\"https://colab.research.google.com/github/Antony12-PNG/ant60/blob/main/contrase%C3%B1a.ipynb\" target=\"_parent\"><img src=\"https://colab.research.google.com/assets/colab-badge.svg\" alt=\"Open In Colab\"/></a>"
      ]
    },
    {
      "cell_type": "markdown",
      "metadata": {
        "id": "2cj4TZtVrNNh"
      },
      "source": [
        "Genera una contraseña"
      ]
    },
    {
      "cell_type": "code",
      "execution_count": null,
      "metadata": {
        "colab": {
          "base_uri": "https://localhost:8080/"
        },
        "id": "wAd0egd4dOfw",
        "outputId": "8c118d0d-544f-45f6-f598-3d3bf50af6a4"
      },
      "outputs": [
        {
          "name": "stdout",
          "output_type": "stream",
          "text": [
            "la contraseya ha de tenir 7 caracters\n",
            "La contrasennya ha de tenir una mayuscula \n",
            "La contrasennya ha de tenir una minuscula\n",
            "La contrasennya ha de tenir un caracter especial\n",
            "La contrasennya ha de tenir minim un numero\n",
            "La contrasennya ha de tenir com ha maxim 8  caracters\n",
            "La contrasennya ha de tenir un signe d'exclamcio o d'interrogació\n",
            "EWC4ZKHGDETAb?\n"
          ]
        }
      ],
      "source": [
        "contrasenya= (\"EWC4ZKHGDETAb?\")\n",
        "numero_1=print(\"la contraseya ha de tenir 7 caracters\")\n",
        "numero_2=print(\"La contrasennya ha de tenir una mayuscula \")\n",
        "numero_3=print(\"La contrasennya ha de tenir una minuscula\")\n",
        "numero_4=print(\"La contrasennya ha de tenir un caracter especial\")\n",
        "numero_5=print(\"La contrasennya ha de tenir minim un numero\")\n",
        "numero_6=print(\"La contrasennya ha de tenir com ha maxim 8  caracters\")\n",
        "numero_7=print(\"La contrasennya ha de tenir un signe d'exclamcio o d'interrogació\")\n",
        "print(contrasenya)\n",
        "\n",
        "\n"
      ]
    },
    {
      "cell_type": "code",
      "source": [
        "import random\n",
        "import string\n",
        "\n",
        "def generador_de_contraseña():\n",
        "  condiciones  = [\n",
        "      random.choice(string.ascii_uppercase),\n",
        "      random.choice(string.ascii_lowercase),\n",
        "      random.choice( 1,2,3,4,5,6,7,8,9,0),\n",
        "      random.choice(\"? ¿ ! ¡ $ % & @ #\")  ]\n",
        "for i in range(8):\n",
        "  random.choice(string.ascii_uppercase   +   string.ascii_lowercase  +  \"? ¿ ! ¡ $ % & @ # \" +   \" 1 2 3,4,5,6,7,8,9,0\" )\n",
        "contraseña=generador_de_contraseña\n",
        "return contraseña\n",
        "\n",
        "print(contraseña(range(8)))\n",
        "\n",
        "#profe que conste en acta que lo intente, me he estresado haciendo esto, esto es lo maximo que he podido sacar\n",
        "#y no creo que pueda mas estoy estresado con este codigo\n",
        "#nose que falla\n",
        "\n",
        "\n",
        ""
      ],
      "metadata": {
        "colab": {
          "base_uri": "https://localhost:8080/",
          "height": 110
        },
        "id": "P3QYvfAI7D-3",
        "outputId": "00572a7b-bd08-4b7a-f4a4-520076cf0ce8"
      },
      "execution_count": 55,
      "outputs": [
        {
          "output_type": "error",
          "ename": "SyntaxError",
          "evalue": "'return' outside function (<ipython-input-55-d270299077fc>, line 13)",
          "traceback": [
            "\u001b[0;36m  File \u001b[0;32m\"<ipython-input-55-d270299077fc>\"\u001b[0;36m, line \u001b[0;32m13\u001b[0m\n\u001b[0;31m    return contraseña\u001b[0m\n\u001b[0m    ^\u001b[0m\n\u001b[0;31mSyntaxError\u001b[0m\u001b[0;31m:\u001b[0m 'return' outside function\n"
          ]
        }
      ]
    }
  ],
  "metadata": {
    "colab": {
      "provenance": [],
      "authorship_tag": "ABX9TyPjXxHYCbK1a6zQ7m7fQkbL",
      "include_colab_link": true
    },
    "kernelspec": {
      "display_name": "Python 3",
      "name": "python3"
    },
    "language_info": {
      "name": "python"
    }
  },
  "nbformat": 4,
  "nbformat_minor": 0
}