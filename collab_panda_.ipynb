{
  "nbformat": 4,
  "nbformat_minor": 0,
  "metadata": {
    "colab": {
      "provenance": [],
      "authorship_tag": "ABX9TyPhtRcJmUoG+m+y6xyjEyXQ",
      "include_colab_link": true
    },
    "kernelspec": {
      "name": "python3",
      "display_name": "Python 3"
    },
    "language_info": {
      "name": "python"
    }
  },
  "cells": [
    {
      "cell_type": "markdown",
      "metadata": {
        "id": "view-in-github",
        "colab_type": "text"
      },
      "source": [
        "<a href=\"https://colab.research.google.com/github/Antony12-PNG/ant60/blob/main/collab_panda_.ipynb\" target=\"_parent\"><img src=\"https://colab.research.google.com/assets/colab-badge.svg\" alt=\"Open In Colab\"/></a>"
      ]
    },
    {
      "cell_type": "markdown",
      "source": [
        "El pandas serveix per treballar amb dades, aquestes dades tenen 3 tipús d'estructures.                     \n",
        "-Series: estructura d'una dimensió, que orten el seu index associat a les segnes.        \n",
        "-data frames: són estructures de dues  dimensons       \n",
        "-panells: Són estructures de 3 dimensions"
      ],
      "metadata": {
        "id": "IYYWqAWUNXOn"
      }
    },
    {
      "cell_type": "code",
      "execution_count": null,
      "metadata": {
        "id": "I1NA7nzzMyh3",
        "colab": {
          "base_uri": "https://localhost:8080/"
        },
        "outputId": "d2001db4-0ff9-4967-a2b2-8cbf88a8d271"
      },
      "outputs": [
        {
          "output_type": "stream",
          "name": "stdout",
          "text": [
            "Requirement already satisfied: pandas in /usr/local/lib/python3.10/dist-packages (2.2.2)\n",
            "Requirement already satisfied: numpy>=1.22.4 in /usr/local/lib/python3.10/dist-packages (from pandas) (1.26.4)\n",
            "Requirement already satisfied: python-dateutil>=2.8.2 in /usr/local/lib/python3.10/dist-packages (from pandas) (2.8.2)\n",
            "Requirement already satisfied: pytz>=2020.1 in /usr/local/lib/python3.10/dist-packages (from pandas) (2024.2)\n",
            "Requirement already satisfied: tzdata>=2022.7 in /usr/local/lib/python3.10/dist-packages (from pandas) (2024.2)\n",
            "Requirement already satisfied: six>=1.5 in /usr/local/lib/python3.10/dist-packages (from python-dateutil>=2.8.2->pandas) (1.16.0)\n",
            "Python 3.10.12\n",
            "Reading package lists... Done\n",
            "Building dependency tree... Done\n",
            "Reading state information... Done\n",
            "The following additional packages will be installed:\n",
            "  libpython3.12-minimal libpython3.12-stdlib mailcap mime-support python3.12-minimal\n",
            "Suggested packages:\n",
            "  python3.12-venv binfmt-support\n",
            "The following NEW packages will be installed:\n",
            "  libpython3.12-minimal libpython3.12-stdlib mailcap mime-support python3.12 python3.12-minimal\n",
            "0 upgraded, 6 newly installed, 0 to remove and 49 not upgraded.\n",
            "Need to get 5,548 kB of archives.\n",
            "After this operation, 22.8 MB of additional disk space will be used.\n",
            "Get:1 http://archive.ubuntu.com/ubuntu jammy/main amd64 mailcap all 3.70+nmu1ubuntu1 [23.8 kB]\n",
            "Get:2 http://archive.ubuntu.com/ubuntu jammy/main amd64 mime-support all 3.66 [3,696 B]\n",
            "Get:3 https://ppa.launchpadcontent.net/deadsnakes/ppa/ubuntu jammy/main amd64 libpython3.12-minimal amd64 3.12.7-1+jammy1 [880 kB]\n",
            "Get:4 https://ppa.launchpadcontent.net/deadsnakes/ppa/ubuntu jammy/main amd64 python3.12-minimal amd64 3.12.7-1+jammy1 [2,497 kB]\n",
            "Get:5 https://ppa.launchpadcontent.net/deadsnakes/ppa/ubuntu jammy/main amd64 libpython3.12-stdlib amd64 3.12.7-1+jammy1 [2,049 kB]\n",
            "Get:6 https://ppa.launchpadcontent.net/deadsnakes/ppa/ubuntu jammy/main amd64 python3.12 amd64 3.12.7-1+jammy1 [94.7 kB]\n",
            "Fetched 5,548 kB in 9s (629 kB/s)\n",
            "Selecting previously unselected package libpython3.12-minimal:amd64.\n",
            "(Reading database ... 123630 files and directories currently installed.)\n",
            "Preparing to unpack .../0-libpython3.12-minimal_3.12.7-1+jammy1_amd64.deb ...\n",
            "Unpacking libpython3.12-minimal:amd64 (3.12.7-1+jammy1) ...\n",
            "Selecting previously unselected package python3.12-minimal.\n",
            "Preparing to unpack .../1-python3.12-minimal_3.12.7-1+jammy1_amd64.deb ...\n",
            "Unpacking python3.12-minimal (3.12.7-1+jammy1) ...\n",
            "Selecting previously unselected package mailcap.\n",
            "Preparing to unpack .../2-mailcap_3.70+nmu1ubuntu1_all.deb ...\n",
            "Unpacking mailcap (3.70+nmu1ubuntu1) ...\n",
            "Selecting previously unselected package mime-support.\n",
            "Preparing to unpack .../3-mime-support_3.66_all.deb ...\n",
            "Unpacking mime-support (3.66) ...\n",
            "Selecting previously unselected package libpython3.12-stdlib:amd64.\n",
            "Preparing to unpack .../4-libpython3.12-stdlib_3.12.7-1+jammy1_amd64.deb ...\n",
            "Unpacking libpython3.12-stdlib:amd64 (3.12.7-1+jammy1) ...\n",
            "Selecting previously unselected package python3.12.\n",
            "Preparing to unpack .../5-python3.12_3.12.7-1+jammy1_amd64.deb ...\n",
            "Unpacking python3.12 (3.12.7-1+jammy1) ...\n",
            "Setting up libpython3.12-minimal:amd64 (3.12.7-1+jammy1) ...\n",
            "Setting up mailcap (3.70+nmu1ubuntu1) ...\n",
            "Setting up python3.12-minimal (3.12.7-1+jammy1) ...\n",
            "Setting up mime-support (3.66) ...\n",
            "Setting up libpython3.12-stdlib:amd64 (3.12.7-1+jammy1) ...\n",
            "Setting up python3.12 (3.12.7-1+jammy1) ...\n",
            "Processing triggers for man-db (2.10.2-1) ...\n"
          ]
        }
      ],
      "source": [
        "!pip install pandas\n",
        "!python --version\n",
        "!apt-get install python3.12"
      ]
    },
    {
      "cell_type": "markdown",
      "source": [
        "volem que pandas imprti alguna cosa.\n",
        "\n",
        "Em de crear una varieble ue sigui setmana i hem de pasar-la a pd i printar una taula"
      ],
      "metadata": {
        "id": "evOWaQ2HP71j"
      }
    },
    {
      "cell_type": "code",
      "source": [
        "import pandas as pd\n",
        "\n",
        "setmana = pd.Series([\"dilluns\",\"dimarts\",\"dimecres\",\"dijous\",\"divendres\",\"dissabte\",\"diumenge\"])\n",
        "setmana\n",
        "print(setmana)\n",
        "print(setmana[0])\n",
        "\n"
      ],
      "metadata": {
        "colab": {
          "base_uri": "https://localhost:8080/"
        },
        "id": "zjZM7wHsP_3o",
        "outputId": "6278b6aa-d8bd-4e8a-ce37-06469bb63b9a"
      },
      "execution_count": null,
      "outputs": [
        {
          "output_type": "stream",
          "name": "stdout",
          "text": [
            "0      dilluns\n",
            "1      dimarts\n",
            "2     dimecres\n",
            "3       dijous\n",
            "4    divendres\n",
            "5     dissabte\n",
            "6     diumenge\n",
            "dtype: object\n",
            "dilluns\n"
          ]
        }
      ]
    },
    {
      "cell_type": "code",
      "source": [
        "setmana = pd.Series([\"dilluns\",\"dimarts\",\"dimecres\",\"dijous\",\"divendres\",\"dissabte\",\"diumenge\"])\n",
        "setmana"
      ],
      "metadata": {
        "colab": {
          "base_uri": "https://localhost:8080/",
          "height": 303
        },
        "id": "lx5F45JLUtuD",
        "outputId": "8769a471-51d4-4375-cb19-b2f4763ab7f5"
      },
      "execution_count": null,
      "outputs": [
        {
          "output_type": "execute_result",
          "data": {
            "text/plain": [
              "0      dilluns\n",
              "1      dimarts\n",
              "2     dimecres\n",
              "3       dijous\n",
              "4    divendres\n",
              "5     dissabte\n",
              "6     diumenge\n",
              "dtype: object"
            ],
            "text/html": [
              "<div>\n",
              "<style scoped>\n",
              "    .dataframe tbody tr th:only-of-type {\n",
              "        vertical-align: middle;\n",
              "    }\n",
              "\n",
              "    .dataframe tbody tr th {\n",
              "        vertical-align: top;\n",
              "    }\n",
              "\n",
              "    .dataframe thead th {\n",
              "        text-align: right;\n",
              "    }\n",
              "</style>\n",
              "<table border=\"1\" class=\"dataframe\">\n",
              "  <thead>\n",
              "    <tr style=\"text-align: right;\">\n",
              "      <th></th>\n",
              "      <th>0</th>\n",
              "    </tr>\n",
              "  </thead>\n",
              "  <tbody>\n",
              "    <tr>\n",
              "      <th>0</th>\n",
              "      <td>dilluns</td>\n",
              "    </tr>\n",
              "    <tr>\n",
              "      <th>1</th>\n",
              "      <td>dimarts</td>\n",
              "    </tr>\n",
              "    <tr>\n",
              "      <th>2</th>\n",
              "      <td>dimecres</td>\n",
              "    </tr>\n",
              "    <tr>\n",
              "      <th>3</th>\n",
              "      <td>dijous</td>\n",
              "    </tr>\n",
              "    <tr>\n",
              "      <th>4</th>\n",
              "      <td>divendres</td>\n",
              "    </tr>\n",
              "    <tr>\n",
              "      <th>5</th>\n",
              "      <td>dissabte</td>\n",
              "    </tr>\n",
              "    <tr>\n",
              "      <th>6</th>\n",
              "      <td>diumenge</td>\n",
              "    </tr>\n",
              "  </tbody>\n",
              "</table>\n",
              "</div><br><label><b>dtype:</b> object</label>"
            ]
          },
          "metadata": {},
          "execution_count": 26
        }
      ]
    },
    {
      "cell_type": "markdown",
      "source": [
        "fer una serie numerica amb els numeros 12,58,63,47,81,35"
      ],
      "metadata": {
        "id": "AdZvUe79xiPe"
      }
    },
    {
      "cell_type": "code",
      "source": [
        "import pandas as pd\n",
        "numeros = pd.Series([12,58,63,47,81,35])\n",
        "print(numeros)\n"
      ],
      "metadata": {
        "colab": {
          "base_uri": "https://localhost:8080/"
        },
        "id": "2FRzhHcVyOaw",
        "outputId": "06119b31-098a-48dc-ca10-86084cbffad3"
      },
      "execution_count": 5,
      "outputs": [
        {
          "output_type": "stream",
          "name": "stdout",
          "text": [
            "0    12\n",
            "1    58\n",
            "2    63\n",
            "3    47\n",
            "4    81\n",
            "5    35\n",
            "dtype: int64\n"
          ]
        }
      ]
    },
    {
      "cell_type": "markdown",
      "source": [
        "mirar la llargada la llargada de la seria numerica"
      ],
      "metadata": {
        "id": "19iAEdnYx3dN"
      }
    },
    {
      "cell_type": "code",
      "source": [
        "import pandas as pd\n",
        "sn = pd.Series([12,58,63,47,81,35])\n",
        "print(sn)\n",
        "print(sn.size)"
      ],
      "metadata": {
        "colab": {
          "base_uri": "https://localhost:8080/"
        },
        "id": "kH0KY47UzQUf",
        "outputId": "ddcb3466-df51-4a6b-b429-b5711c42a914"
      },
      "execution_count": 12,
      "outputs": [
        {
          "output_type": "stream",
          "name": "stdout",
          "text": [
            "6\n",
            "0    12\n",
            "1    58\n",
            "2    63\n",
            "3    47\n",
            "4    81\n",
            "5    35\n",
            "dtype: int64\n"
          ]
        }
      ]
    },
    {
      "cell_type": "code",
      "source": [
        "size"
      ],
      "metadata": {
        "id": "ILrEAyVtyCrM"
      },
      "execution_count": null,
      "outputs": []
    },
    {
      "cell_type": "markdown",
      "source": [
        "sumar tos el valor numerics amb la funció sum, cal ue la suma digui(l'import total es...)"
      ],
      "metadata": {
        "id": "SVHDqrBPyGSE"
      }
    },
    {
      "cell_type": "code",
      "source": [
        "import pandas as pd\n",
        "sn = pd.Series([12,58,63,47,81,35])\n",
        "print(sn)\n",
        "print(sn.size)\n",
        "print(\"El valor numeric de la funció és: \",  sum)"
      ],
      "metadata": {
        "colab": {
          "base_uri": "https://localhost:8080/"
        },
        "id": "2cHllEHkz8fN",
        "outputId": "5b3aa63c-0610-488c-ce7f-d7d323cf1c73"
      },
      "execution_count": 14,
      "outputs": [
        {
          "output_type": "stream",
          "name": "stdout",
          "text": [
            "0    12\n",
            "1    58\n",
            "2    63\n",
            "3    47\n",
            "4    81\n",
            "5    35\n",
            "dtype: int64\n",
            "6\n",
            "El valor numeric de la funció és:  296\n"
          ]
        }
      ]
    },
    {
      "cell_type": "markdown",
      "source": [
        "em de buscar el valor promig de la serie"
      ],
      "metadata": {
        "id": "5S0DJP2U0inW"
      }
    },
    {
      "cell_type": "code",
      "source": [
        "import pandas as pd\n",
        "sn = pd.Series([12,58,63,47,81,35])\n",
        "print(sn)\n",
        "print(sn.size)\n",
        "print(\"El valor numeric de la funció és: \",  sum(sn))\n",
        "mediana = sn.mean()\n",
        "print(mediana)\n",
        "l = round(mediana,2)\n",
        "print(l)"
      ],
      "metadata": {
        "colab": {
          "base_uri": "https://localhost:8080/"
        },
        "id": "5jVMn--M1GxD",
        "outputId": "10dd4b4e-0af2-4f7b-c625-4781f955905f"
      },
      "execution_count": 32,
      "outputs": [
        {
          "output_type": "stream",
          "name": "stdout",
          "text": [
            "0    12\n",
            "1    58\n",
            "2    63\n",
            "3    47\n",
            "4    81\n",
            "5    35\n",
            "dtype: int64\n",
            "6\n",
            "El valor numeric de la funció és:  296\n",
            "49.333333333333336\n",
            "49.33\n"
          ]
        }
      ]
    },
    {
      "cell_type": "markdown",
      "source": [
        "e de printar el numero max i minim, i printar la suma acumulada de valors  .cunsum"
      ],
      "metadata": {
        "id": "pKonbUWV3eCS"
      }
    },
    {
      "cell_type": "code",
      "source": [
        "import pandas as pd\n",
        "\n",
        "sn = pd.Series([12,58,63,47,81,35])\n",
        "\n",
        "print(sn)\n",
        "\n",
        "print(sn.size)\n",
        "\n",
        "print(\"El valor numeric de la funció és: \",  sum(sn))\n",
        "\n",
        "kj = sn.mean()\n",
        "print(kj)\n",
        "\n",
        "l = round(kj,2)\n",
        "print(l)\n",
        "\n",
        "minims_i_maxims = sn.max(), sn.min()\n",
        "print(\"els minims i maxims són:\", minims_i_maxims)\n",
        "\n",
        "oug=sn.cumsum()\n",
        "print(oug)\n",
        "\n",
        "quantitat_numeros= sn.value_counts()\n",
        "print(quantitat_numeros)\n"
      ],
      "metadata": {
        "colab": {
          "base_uri": "https://localhost:8080/"
        },
        "id": "St_QjZyV4JjE",
        "outputId": "7d3c8a0b-51c4-483b-a5b6-bcf52085aef7"
      },
      "execution_count": 42,
      "outputs": [
        {
          "output_type": "stream",
          "name": "stdout",
          "text": [
            "0    12\n",
            "1    58\n",
            "2    63\n",
            "3    47\n",
            "4    81\n",
            "5    35\n",
            "dtype: int64\n",
            "6\n",
            "El valor numeric de la funció és:  296\n",
            "49.333333333333336\n",
            "49.33\n",
            "els minims i maxims són: (81, 12)\n",
            "0     12\n",
            "1     70\n",
            "2    133\n",
            "3    180\n",
            "4    261\n",
            "5    296\n",
            "dtype: int64\n",
            "12    1\n",
            "58    1\n",
            "63    1\n",
            "47    1\n",
            "81    1\n",
            "35    1\n",
            "Name: count, dtype: int64\n"
          ]
        }
      ]
    },
    {
      "cell_type": "markdown",
      "source": [
        "fer una nova llista, 12,,8,5,5,14,3,12,7"
      ],
      "metadata": {
        "id": "SCagS0w16WRz"
      }
    }
  ]
}