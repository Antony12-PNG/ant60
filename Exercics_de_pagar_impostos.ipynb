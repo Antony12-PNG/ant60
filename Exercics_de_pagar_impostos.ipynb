{
  "nbformat": 4,
  "nbformat_minor": 0,
  "metadata": {
    "colab": {
      "provenance": [],
      "authorship_tag": "ABX9TyOyGzhG1muVIyXa055t/Bl2",
      "include_colab_link": true
    },
    "kernelspec": {
      "name": "python3",
      "display_name": "Python 3"
    },
    "language_info": {
      "name": "python"
    }
  },
  "cells": [
    {
      "cell_type": "markdown",
      "metadata": {
        "id": "view-in-github",
        "colab_type": "text"
      },
      "source": [
        "<a href=\"https://colab.research.google.com/github/Antony12-PNG/ant60/blob/main/Exercics_de_pagar_impostos.ipynb\" target=\"_parent\"><img src=\"https://colab.research.google.com/assets/colab-badge.svg\" alt=\"Open In Colab\"/></a>"
      ]
    },
    {
      "cell_type": "markdown",
      "source": [
        "Fes una variable que pregunti el sou d'una persona i si el seu sou es superior als 2000 euros, cal que es mostri un misatge a la pantaja que digui que a de pagar un 15 percent de irpf"
      ],
      "metadata": {
        "id": "HTNHdnlFEvRJ"
      }
    },
    {
      "cell_type": "code",
      "execution_count": 7,
      "metadata": {
        "colab": {
          "base_uri": "https://localhost:8080/"
        },
        "id": "ozpX7IsXEg2U",
        "outputId": "278e42ca-6362-4a86-a172-4472af0d24a8"
      },
      "outputs": [
        {
          "output_type": "stream",
          "name": "stdout",
          "text": [
            "Posa el teu sou:     2900\n",
            "Has de pagar un 15 percent de irpf\n",
            "Que són uns 435.0 euros\n"
          ]
        }
      ],
      "source": [
        "sou=float(input(\"Posa el teu sou:     \"))\n",
        "if (sou > 2000):\n",
        "  print(\"Has de pagar un 15 percent de irpf\")\n",
        "  diners_que_has_de_pagar=    sou   *    15   /   100\n",
        "  print(\"Que són uns\",diners_que_has_de_pagar,\"euros\")\n",
        "else:\n",
        "  print(\"No has de pagar res  \")\n",
        "diners_que_has_de_pagar=    sou   *    15   /   100"
      ]
    },
    {
      "cell_type": "markdown",
      "source": [
        "Heu de posar dues variables amb numeros diferents i que sorti a la pantalla el que es superior"
      ],
      "metadata": {
        "id": "n6MF4VlMFnaT"
      }
    },
    {
      "cell_type": "code",
      "source": [
        "numero_1=float(input(\"Digues un número:    \"))\n",
        "numero_2=float(input(\"Digues un altre número:    \"))\n",
        "if(numero_1  >  numero_2):\n",
        "  print(\"El número més gran és el\",numero_1)\n",
        "else:\n",
        "  print(\"El número més gran és el\",numero_2)"
      ],
      "metadata": {
        "colab": {
          "base_uri": "https://localhost:8080/"
        },
        "id": "KsW0d9d7FuRN",
        "outputId": "ff41f533-1604-47c3-8a10-f65b7f066034"
      },
      "execution_count": 15,
      "outputs": [
        {
          "output_type": "stream",
          "name": "stdout",
          "text": [
            "Digues un número:    4\n",
            "Digues un altre número:    3\n",
            "El número més gran és el 4.0\n"
          ]
        }
      ]
    },
    {
      "cell_type": "markdown",
      "source": [
        "Imagineu-vos que teniu una nòmina de 2950 euros cal que feu que paguin a l'estat un 20 per cent d'impostos, un cop hàgiu fet això cal que pagueu les factures del gas (70 euros) i de l'aigua (55 euros) a Vanda cal pagar el pis (1000 euros) quants diners li quedaran a aquesta persona per sobreviure, Sí el resultat de l'import és inferior a mil euros (compte!!). Si és superior a mil dir (tens sort)"
      ],
      "metadata": {
        "id": "G6Vfru3SH0i8"
      }
    },
    {
      "cell_type": "code",
      "source": [
        "sou= 1950\n",
        "impostos= sou*20/100\n",
        "factura_aigua= 55\n",
        "factura_gas= 70\n",
        "lloguer= 1000\n",
        "diners= sou  - impostos  - factura_gas   - factura_aigua   -  lloguer\n",
        "print(\"Et quedaran uns\",    diners    ,\"euros per sobreviure\")\n",
        "#no se que falla exctament, abans funcionaba  sense float\n",
        "if(diners   >   1000):\n",
        "  print(\"Tens sort.\")\n",
        "else:\n",
        "  print(\"Compte!!\")"
      ],
      "metadata": {
        "colab": {
          "base_uri": "https://localhost:8080/",
          "height": 220
        },
        "id": "0f7B6O9XH1zO",
        "outputId": "6a42212c-ce77-4a07-b514-c52ede5bed52"
      },
      "execution_count": 61,
      "outputs": [
        {
          "output_type": "error",
          "ename": "TypeError",
          "evalue": "'float' object is not callable",
          "traceback": [
            "\u001b[0;31m---------------------------------------------------------------------------\u001b[0m",
            "\u001b[0;31mTypeError\u001b[0m                                 Traceback (most recent call last)",
            "\u001b[0;32m<ipython-input-61-6e6de2c37f30>\u001b[0m in \u001b[0;36m<cell line: 7>\u001b[0;34m()\u001b[0m\n\u001b[1;32m      5\u001b[0m \u001b[0mlloguer\u001b[0m\u001b[0;34m=\u001b[0m \u001b[0;36m1000\u001b[0m\u001b[0;34m\u001b[0m\u001b[0;34m\u001b[0m\u001b[0m\n\u001b[1;32m      6\u001b[0m \u001b[0mdiners\u001b[0m\u001b[0;34m=\u001b[0m \u001b[0msou\u001b[0m  \u001b[0;34m-\u001b[0m \u001b[0mimpostos\u001b[0m  \u001b[0;34m-\u001b[0m \u001b[0mfactura_gas\u001b[0m   \u001b[0;34m-\u001b[0m \u001b[0mfactura_aigua\u001b[0m   \u001b[0;34m-\u001b[0m  \u001b[0mlloguer\u001b[0m\u001b[0;34m\u001b[0m\u001b[0;34m\u001b[0m\u001b[0m\n\u001b[0;32m----> 7\u001b[0;31m \u001b[0mprint\u001b[0m\u001b[0;34m(\u001b[0m\u001b[0;34m\"Et quedaran uns\"\u001b[0m\u001b[0;34m,\u001b[0m    \u001b[0mdiners\u001b[0m    \u001b[0;34m,\u001b[0m\u001b[0;34m\"euros per sobreviure\"\u001b[0m\u001b[0;34m)\u001b[0m\u001b[0;34m\u001b[0m\u001b[0;34m\u001b[0m\u001b[0m\n\u001b[0m\u001b[1;32m      8\u001b[0m \u001b[0;31m#no se que falla exctament, abans funcionaba  sene float\u001b[0m\u001b[0;34m\u001b[0m\u001b[0;34m\u001b[0m\u001b[0m\n\u001b[1;32m      9\u001b[0m \u001b[0;32mif\u001b[0m\u001b[0;34m(\u001b[0m\u001b[0mdiners\u001b[0m   \u001b[0;34m>\u001b[0m   \u001b[0;36m1000\u001b[0m\u001b[0;34m)\u001b[0m\u001b[0;34m:\u001b[0m\u001b[0;34m\u001b[0m\u001b[0;34m\u001b[0m\u001b[0m\n",
            "\u001b[0;31mTypeError\u001b[0m: 'float' object is not callable"
          ]
        }
      ]
    }
  ]
}