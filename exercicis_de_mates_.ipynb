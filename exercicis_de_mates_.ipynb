{
  "nbformat": 4,
  "nbformat_minor": 0,
  "metadata": {
    "colab": {
      "provenance": [],
      "authorship_tag": "ABX9TyNdbFaJPXm3HCoPoLRY8Ivk",
      "include_colab_link": true
    },
    "kernelspec": {
      "name": "python3",
      "display_name": "Python 3"
    },
    "language_info": {
      "name": "python"
    }
  },
  "cells": [
    {
      "cell_type": "markdown",
      "metadata": {
        "id": "view-in-github",
        "colab_type": "text"
      },
      "source": [
        "<a href=\"https://colab.research.google.com/github/Antony12-PNG/ant60/blob/main/exercicis_de_mates_.ipynb\" target=\"_parent\"><img src=\"https://colab.research.google.com/assets/colab-badge.svg\" alt=\"Open In Colab\"/></a>"
      ]
    },
    {
      "cell_type": "markdown",
      "source": [
        "Fes la superficie d'un quadrat"
      ],
      "metadata": {
        "id": "Nkxql3sJBsMT"
      }
    },
    {
      "cell_type": "code",
      "execution_count": null,
      "metadata": {
        "id": "GAn3EpyUBlmd"
      },
      "outputs": [],
      "source": [
        "numero_1=float(input(\"Quant mesura cada costat:    \"))\n",
        "superficie= numero_1   *   2\n",
        "print(\"la superficie es de\",superficie, \"metres\")"
      ]
    },
    {
      "cell_type": "markdown",
      "source": [
        "realitzar el perimetre d'un quadrat"
      ],
      "metadata": {
        "id": "F-8uh4NTCAf8"
      }
    },
    {
      "cell_type": "code",
      "source": [
        "numero_1=float(input(\"Quant mesura el costat  1   \"))\n",
        "numero_2=float(input(\"Quant mesura el costat  2   \"))\n",
        "numero_3=float(input(\"Quant mesura el costat  3   \"))\n",
        "numero_4=float(input(\"Quant mesura el costat  4   \"))\n",
        "\n",
        "perimetre= numero_1   +   numero_2    + numero_3   + numero_4\n",
        "print(\"la superficie es de\",perimetre, \"metres\")"
      ],
      "metadata": {
        "id": "t4Z9iGCiB-1X"
      },
      "execution_count": null,
      "outputs": []
    },
    {
      "cell_type": "markdown",
      "source": [
        "inventa 4 variables:\n",
        "\n",
        "1.   fes la suma de les 4 variables\n",
        "2.   la suma de les dues primeres\n",
        "3.   la suma de les dues ultimes\n",
        "2.   la multiplicació dels resultats\n",
        "\n"
      ],
      "metadata": {
        "id": "RrhFnyXoCNFU"
      }
    },
    {
      "cell_type": "code",
      "source": [
        "numero_1=float(input(\"digues el primer número\"))\n",
        "numero_2=float(input(\"digues el segon número\"))\n",
        "numero_3=float(input(\"digues el tercer número\"))\n",
        "numero_4=float(input(\"digues el quart número\"))\n",
        "suma_total=  numero_1   + numero_2   + numero_3     + numero_4\n",
        "print(suma_total)"
      ],
      "metadata": {
        "id": "G6wFPeIWCMy3"
      },
      "execution_count": null,
      "outputs": []
    },
    {
      "cell_type": "code",
      "source": [
        "numero_1=float(input(\"digues el primer número     \"))\n",
        "numero_2=float(input(\"digues el segon número      \"))\n",
        "suma_total_1=  numero_1   + numero_2\n",
        "print(suma_total_1)\n",
        "numero_3=float(input(\"digues el tercer número     \"))\n",
        "numero_4=float(input(\"digues el quart número      \"))\n",
        "suma_total_2= numero_3     + numero_4\n",
        "print(suma_total_2)\n",
        "multiplicació_dels_productes= suma_total_1  *   suma_total_2\n",
        "print(multiplicació_dels_productes)"
      ],
      "metadata": {
        "id": "ely7xDT4CyaV"
      },
      "execution_count": null,
      "outputs": []
    }
  ]
}